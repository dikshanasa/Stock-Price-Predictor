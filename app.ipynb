{
 "metadata": {
  "language_info": {
   "codemirror_mode": {
    "name": "ipython",
    "version": 3
   },
   "file_extension": ".py",
   "mimetype": "text/x-python",
   "name": "python",
   "nbconvert_exporter": "python",
   "pygments_lexer": "ipython3",
   "version": "3.8.5"
  },
  "orig_nbformat": 4,
  "kernelspec": {
   "name": "python3",
   "display_name": "Python 3.8.5 64-bit ('base': conda)"
  },
  "interpreter": {
   "hash": "4c42a2e06d46085fb9cb46dd32d1902313d4f1f33eee621b248093f1771ebe8f"
  }
 },
 "nbformat": 4,
 "nbformat_minor": 2,
 "cells": [
  {
   "cell_type": "code",
   "execution_count": 2,
   "metadata": {},
   "outputs": [],
   "source": [
    "import dash\n",
    "import dash_core_components as dcc\n",
    "import dash_html_components as html\n",
    "import pandas as pd\n",
    "import plotly.graph_objs as go\n",
    "from dash.dependencies import Input, Output\n",
    "from keras.models import load_model\n",
    "from sklearn.preprocessing import MinMaxScaler\n",
    "import numpy as np\n",
    "import pandas_datareader as web"
   ]
  },
  {
   "cell_type": "code",
   "execution_count": 3,
   "metadata": {},
   "outputs": [],
   "source": [
    "app = dash.Dash()\n",
    "server = app.server"
   ]
  },
  {
   "cell_type": "code",
   "execution_count": 4,
   "metadata": {},
   "outputs": [],
   "source": [
    "scaler=MinMaxScaler(feature_range=(0,1))"
   ]
  },
  {
   "cell_type": "code",
   "execution_count": 5,
   "metadata": {},
   "outputs": [
    {
     "output_type": "execute_result",
     "data": {
      "text/plain": [
       "         Date       Open       High        Low      Close  Adj Close  \\\n",
       "0  2012-01-03  14.621429  14.732143  14.607143  14.686786  12.629209   \n",
       "1  2012-01-04  14.642857  14.810000  14.617143  14.765714  12.697079   \n",
       "2  2012-01-05  14.819643  14.948214  14.738214  14.929643  12.838044   \n",
       "3  2012-01-06  14.991786  15.098214  14.972143  15.085714  12.972249   \n",
       "4  2012-01-09  15.196429  15.276786  15.048214  15.061786  12.951672   \n",
       "\n",
       "      Volume  \n",
       "0  302220800  \n",
       "1  260022000  \n",
       "2  271269600  \n",
       "3  318292800  \n",
       "4  394024400  "
      ],
      "text/html": "<div>\n<style scoped>\n    .dataframe tbody tr th:only-of-type {\n        vertical-align: middle;\n    }\n\n    .dataframe tbody tr th {\n        vertical-align: top;\n    }\n\n    .dataframe thead th {\n        text-align: right;\n    }\n</style>\n<table border=\"1\" class=\"dataframe\">\n  <thead>\n    <tr style=\"text-align: right;\">\n      <th></th>\n      <th>Date</th>\n      <th>Open</th>\n      <th>High</th>\n      <th>Low</th>\n      <th>Close</th>\n      <th>Adj Close</th>\n      <th>Volume</th>\n    </tr>\n  </thead>\n  <tbody>\n    <tr>\n      <th>0</th>\n      <td>2012-01-03</td>\n      <td>14.621429</td>\n      <td>14.732143</td>\n      <td>14.607143</td>\n      <td>14.686786</td>\n      <td>12.629209</td>\n      <td>302220800</td>\n    </tr>\n    <tr>\n      <th>1</th>\n      <td>2012-01-04</td>\n      <td>14.642857</td>\n      <td>14.810000</td>\n      <td>14.617143</td>\n      <td>14.765714</td>\n      <td>12.697079</td>\n      <td>260022000</td>\n    </tr>\n    <tr>\n      <th>2</th>\n      <td>2012-01-05</td>\n      <td>14.819643</td>\n      <td>14.948214</td>\n      <td>14.738214</td>\n      <td>14.929643</td>\n      <td>12.838044</td>\n      <td>271269600</td>\n    </tr>\n    <tr>\n      <th>3</th>\n      <td>2012-01-06</td>\n      <td>14.991786</td>\n      <td>15.098214</td>\n      <td>14.972143</td>\n      <td>15.085714</td>\n      <td>12.972249</td>\n      <td>318292800</td>\n    </tr>\n    <tr>\n      <th>4</th>\n      <td>2012-01-09</td>\n      <td>15.196429</td>\n      <td>15.276786</td>\n      <td>15.048214</td>\n      <td>15.061786</td>\n      <td>12.951672</td>\n      <td>394024400</td>\n    </tr>\n  </tbody>\n</table>\n</div>"
     },
     "metadata": {},
     "execution_count": 5
    }
   ],
   "source": [
    "df_nse =pd.read_csv('AAPL.csv')\n",
    "df_nse.head()"
   ]
  },
  {
   "cell_type": "code",
   "execution_count": 6,
   "metadata": {},
   "outputs": [],
   "source": [
    "df_nse[\"Date\"]=pd.to_datetime(df_nse.Date,format=\"%Y-%m-%d\")\n",
    "df_nse.index=df_nse['Date']"
   ]
  },
  {
   "cell_type": "code",
   "execution_count": 7,
   "metadata": {},
   "outputs": [],
   "source": [
    "data=df_nse.sort_index(ascending=True,axis=0)\n",
    "new_data=pd.DataFrame(index=range(0,len(df_nse)),columns=['Date','Close'])"
   ]
  },
  {
   "cell_type": "code",
   "execution_count": 8,
   "metadata": {},
   "outputs": [],
   "source": [
    "for i in range(0,len(data)):\n",
    "    new_data[\"Date\"][i]=data['Date'][i]\n",
    "    new_data[\"Close\"][i]=data[\"Close\"][i]"
   ]
  },
  {
   "cell_type": "code",
   "execution_count": 9,
   "metadata": {},
   "outputs": [],
   "source": [
    "new_data.index=new_data.Date\n",
    "new_data.drop(\"Date\",axis=1,inplace=True)"
   ]
  },
  {
   "cell_type": "code",
   "execution_count": 10,
   "metadata": {},
   "outputs": [],
   "source": [
    "dataset=new_data.values"
   ]
  },
  {
   "cell_type": "code",
   "execution_count": 11,
   "metadata": {},
   "outputs": [],
   "source": [
    "train=dataset[0:987,:]\n",
    "valid=dataset[987:,:]\n",
    "\n",
    "scaler=MinMaxScaler(feature_range=(0,1))\n",
    "scaled_data=scaler.fit_transform(dataset)"
   ]
  },
  {
   "cell_type": "code",
   "execution_count": 12,
   "metadata": {},
   "outputs": [],
   "source": [
    "x_train,y_train=[],[]\n",
    "\n",
    "for i in range(60,len(train)):\n",
    "    x_train.append(scaled_data[i-60:i,0])\n",
    "    y_train.append(scaled_data[i,0])"
   ]
  },
  {
   "cell_type": "code",
   "execution_count": 13,
   "metadata": {},
   "outputs": [],
   "source": [
    "x_train,y_train=np.array(x_train),np.array(y_train)\n",
    "\n",
    "x_train=np.reshape(x_train,(x_train.shape[0],x_train.shape[1],1))"
   ]
  },
  {
   "cell_type": "code",
   "execution_count": 14,
   "metadata": {},
   "outputs": [],
   "source": [
    "model=load_model(\"saved_model.h5\")"
   ]
  },
  {
   "cell_type": "code",
   "execution_count": 15,
   "metadata": {},
   "outputs": [],
   "source": [
    "inputs=new_data[len(new_data)-len(valid)-60:].values\n",
    "inputs=inputs.reshape(-1,1)\n",
    "inputs=scaler.transform(inputs)"
   ]
  },
  {
   "cell_type": "code",
   "execution_count": 16,
   "metadata": {},
   "outputs": [],
   "source": [
    "X_test=[]\n",
    "for i in range(60,inputs.shape[0]):\n",
    "    X_test.append(inputs[i-60:i,0])\n",
    "X_test=np.array(X_test)"
   ]
  },
  {
   "cell_type": "code",
   "execution_count": 17,
   "metadata": {},
   "outputs": [],
   "source": [
    "X_test=np.reshape(X_test,(X_test.shape[0],X_test.shape[1],1))\n",
    "closing_price=model.predict(X_test)\n",
    "closing_price=scaler.inverse_transform(closing_price)"
   ]
  },
  {
   "cell_type": "code",
   "execution_count": 18,
   "metadata": {},
   "outputs": [
    {
     "output_type": "stream",
     "name": "stderr",
     "text": [
      "<ipython-input-18-1a73ed0c0252>:3: SettingWithCopyWarning: \nA value is trying to be set on a copy of a slice from a DataFrame.\nTry using .loc[row_indexer,col_indexer] = value instead\n\nSee the caveats in the documentation: https://pandas.pydata.org/pandas-docs/stable/user_guide/indexing.html#returning-a-view-versus-a-copy\n  valid['Predictions']=closing_price\n"
     ]
    }
   ],
   "source": [
    "train=new_data[:987]\n",
    "valid=new_data[987:]\n",
    "valid['Predictions']=closing_price"
   ]
  },
  {
   "cell_type": "code",
   "execution_count": 19,
   "metadata": {},
   "outputs": [],
   "source": [
    "df= pd.read_csv('stock_data.csv')"
   ]
  },
  {
   "cell_type": "code",
   "execution_count": 25,
   "metadata": {},
   "outputs": [],
   "source": [
    "app.layout = html.Div([\n",
    "   \n",
    "    html.H1(\"Stock Price Analysis Dashboard\", style={\"textAlign\": \"center\"}),\n",
    "   \n",
    "    dcc.Tabs(id=\"tabs\", children=[\n",
    "       \n",
    "        dcc.Tab(label='Apple Stock Data',children=[\n",
    "            html.Div([\n",
    "                html.H2(\"Actual closing price\",style={\"textAlign\": \"center\"}),\n",
    "                dcc.Graph(\n",
    "                    id=\"Actual Data\",\n",
    "                    figure={\n",
    "                        \"data\":[\n",
    "                            go.Scatter(\n",
    "                                x=train.index,\n",
    "                                y=valid[\"Close\"],\n",
    "                                mode='markers'\n",
    "                            )\n",
    "\n",
    "                        ],\n",
    "                        \"layout\":go.Layout(\n",
    "                            title='scatter plot',\n",
    "                            xaxis={'title':'Date'},\n",
    "                            yaxis={'title':'Closing Rate'}\n",
    "                        )\n",
    "                    }\n",
    "\n",
    "                ),\n",
    "                html.H2(\"LSTM Predicted closing price\",style={\"textAlign\": \"center\"}),\n",
    "                dcc.Graph(\n",
    "                    id=\"Predicted Data\",\n",
    "                    figure={\n",
    "                        \"data\":[\n",
    "                            go.Scatter(\n",
    "                                x=valid.index,\n",
    "                                y=valid[\"Predictions\"],\n",
    "                                mode='markers'\n",
    "                            )\n",
    "\n",
    "                        ],\n",
    "                        \"layout\":go.Layout(\n",
    "                            title='scatter plot',\n",
    "                            xaxis={'title':'Date'},\n",
    "                            yaxis={'title':'Closing Rate'}\n",
    "                        )\n",
    "                    }\n",
    "\n",
    "                )                \n",
    "            ])                \n",
    "\n",
    "\n",
    "        ]),\n",
    "        dcc.Tab(label='Facebook Stock Data', children=[\n",
    "            html.Div([\n",
    "                html.H1(\"Facebook Stocks High vs Lows\", \n",
    "                        style={'textAlign': 'center'}),\n",
    "              \n",
    "                dcc.Dropdown(id='my-dropdown',\n",
    "                             options=[{'label': 'Tesla', 'value': 'TSLA'},\n",
    "                                      {'label': 'Apple','value': 'AAPL'}, \n",
    "                                      {'label': 'Facebook', 'value': 'FB'}, \n",
    "                                      {'label': 'Microsoft','value': 'MSFT'}], \n",
    "                             multi=True,value=['FB'],\n",
    "                             style={\"display\": \"block\", \"margin-left\": \"auto\", \n",
    "                                    \"margin-right\": \"auto\", \"width\": \"60%\"}),\n",
    "                dcc.Graph(id='highlow'),\n",
    "                html.H1(\"Facebook Market Volume\", style={'textAlign': 'center'}),\n",
    "         \n",
    "                dcc.Dropdown(id='my-dropdown2',\n",
    "                             options=[{'label': 'Tesla', 'value': 'TSLA'},\n",
    "                                      {'label': 'Apple','value': 'AAPL'}, \n",
    "                                      {'label': 'Facebook', 'value': 'FB'},\n",
    "                                      {'label': 'Microsoft','value': 'MSFT'}], \n",
    "                             multi=True,value=['FB'],\n",
    "                             style={\"display\": \"block\", \"margin-left\": \"auto\", \n",
    "                                    \"margin-right\": \"auto\", \"width\": \"60%\"}),\n",
    "                dcc.Graph(id='volume')\n",
    "            ], className=\"container\"),\n",
    "        ])\n",
    "\n",
    "\n",
    "    ])\n",
    "])"
   ]
  },
  {
   "cell_type": "code",
   "execution_count": 26,
   "metadata": {},
   "outputs": [],
   "source": [
    "@app.callback(Output('highlow', 'figure'),\n",
    "              [Input('my-dropdown', 'value')])\n",
    "def update_graph(selected_dropdown):\n",
    "    dropdown = {\"TSLA\": \"Tesla\",\"AAPL\": \"Apple\",\"FB\": \"Facebook\",\"MSFT\": \"Microsoft\",}\n",
    "    trace1 = []\n",
    "    trace2 = []\n",
    "    for stock in selected_dropdown:\n",
    "        trace1.append(\n",
    "          go.Scatter(x=df[df[\"Stock\"] == stock][\"Date\"],\n",
    "                     y=df[df[\"Stock\"] == stock][\"High\"],\n",
    "                     mode='lines', opacity=0.7, \n",
    "                     name=f'High {dropdown[stock]}',textposition='bottom center'))\n",
    "        trace2.append(\n",
    "          go.Scatter(x=df[df[\"Stock\"] == stock][\"Date\"],\n",
    "                     y=df[df[\"Stock\"] == stock][\"Low\"],\n",
    "                     mode='lines', opacity=0.6,\n",
    "                     name=f'Low {dropdown[stock]}',textposition='bottom center'))\n",
    "    traces = [trace1, trace2]\n",
    "    data = [val for sublist in traces for val in sublist]\n",
    "    figure = {'data': data,\n",
    "              'layout': go.Layout(colorway=[\"#5E0DAC\", '#FF4F00', '#375CB1', \n",
    "                                            '#FF7400', '#FFF400', '#FF0056'],\n",
    "            height=600,\n",
    "            title=f\"High and Low Prices for {', '.join(str(dropdown[i]) for i in selected_dropdown)} Over Time\",\n",
    "            xaxis={\"title\":\"Date\",\n",
    "                   'rangeselector': {'buttons': list([{'count': 1, 'label': '1M', \n",
    "                                                       'step': 'month', \n",
    "                                                       'stepmode': 'backward'},\n",
    "                                                      {'count': 6, 'label': '6M', \n",
    "                                                       'step': 'month', \n",
    "                                                       'stepmode': 'backward'},\n",
    "                                                      {'step': 'all'}])},\n",
    "                   'rangeslider': {'visible': True}, 'type': 'date'},\n",
    "             yaxis={\"title\":\"Price (USD)\"})}\n",
    "    return figure"
   ]
  },
  {
   "cell_type": "code",
   "execution_count": 22,
   "metadata": {},
   "outputs": [
    {
     "output_type": "stream",
     "name": "stdout",
     "text": [
      "Dash is running on http://127.0.0.1:8050/\n",
      "\n",
      " * Serving Flask app \"__main__\" (lazy loading)\n",
      " * Environment: production\n",
      "   WARNING: This is a development server. Do not use it in a production deployment.\n",
      "   Use a production WSGI server instead.\n",
      " * Debug mode: off\n",
      " * Running on http://127.0.0.1:8050/ (Press CTRL+C to quit)\n",
      "127.0.0.1 - - [07/Jul/2021 12:37:54] \"\u001b[37mGET / HTTP/1.1\u001b[0m\" 200 -\n",
      "127.0.0.1 - - [07/Jul/2021 12:37:54] \"\u001b[37mGET /_dash-component-suites/dash_renderer/polyfill@7.v1_9_1m1625637373.8.7.min.js HTTP/1.1\u001b[0m\" 200 -\n",
      "127.0.0.1 - - [07/Jul/2021 12:37:54] \"\u001b[37mGET /_dash-component-suites/dash_renderer/react@16.v1_9_1m1625637373.14.0.min.js HTTP/1.1\u001b[0m\" 200 -\n",
      "127.0.0.1 - - [07/Jul/2021 12:37:54] \"\u001b[37mGET /_dash-component-suites/dash_renderer/prop-types@15.v1_9_1m1625637373.7.2.min.js HTTP/1.1\u001b[0m\" 200 -\n",
      "127.0.0.1 - - [07/Jul/2021 12:37:54] \"\u001b[37mGET /_dash-component-suites/dash_core_components/dash_core_components-shared.v1_16_0m1625637375.js HTTP/1.1\u001b[0m\" 200 -\n",
      "127.0.0.1 - - [07/Jul/2021 12:37:54] \"\u001b[37mGET /_dash-component-suites/dash_renderer/react-dom@16.v1_9_1m1625637373.14.0.min.js HTTP/1.1\u001b[0m\" 200 -\n",
      "127.0.0.1 - - [07/Jul/2021 12:37:54] \"\u001b[37mGET /_dash-component-suites/dash_html_components/dash_html_components.v1_1_3m1625637374.min.js HTTP/1.1\u001b[0m\" 200 -\n",
      "127.0.0.1 - - [07/Jul/2021 12:37:54] \"\u001b[37mGET /_dash-component-suites/dash_core_components/dash_core_components.v1_16_0m1625637375.min.js HTTP/1.1\u001b[0m\" 200 -\n",
      "127.0.0.1 - - [07/Jul/2021 12:37:54] \"\u001b[37mGET /_dash-component-suites/dash_renderer/dash_renderer.v1_9_1m1625637373.min.js HTTP/1.1\u001b[0m\" 200 -\n",
      "127.0.0.1 - - [07/Jul/2021 12:37:54] \"\u001b[37mGET /_dash-dependencies HTTP/1.1\u001b[0m\" 200 -\n",
      "127.0.0.1 - - [07/Jul/2021 12:37:54] \"\u001b[37mGET /_favicon.ico?v=1.20.0 HTTP/1.1\u001b[0m\" 200 -\n",
      "127.0.0.1 - - [07/Jul/2021 12:37:54] \"\u001b[37mGET /_dash-layout HTTP/1.1\u001b[0m\" 200 -\n",
      "127.0.0.1 - - [07/Jul/2021 12:37:54] \"\u001b[37mGET /_dash-component-suites/dash_core_components/async-graph.v1_16_0m1617903285.js HTTP/1.1\u001b[0m\" 200 -\n",
      "127.0.0.1 - - [07/Jul/2021 12:37:54] \"\u001b[37mPOST /_dash-update-component HTTP/1.1\u001b[0m\" 200 -\n",
      "127.0.0.1 - - [07/Jul/2021 12:37:54] \"\u001b[37mPOST /_dash-update-component HTTP/1.1\u001b[0m\" 200 -\n",
      "127.0.0.1 - - [07/Jul/2021 12:37:55] \"\u001b[37mGET /_dash-component-suites/dash_core_components/async-plotlyjs.v1_16_0m1617903285.js HTTP/1.1\u001b[0m\" 200 -\n",
      "127.0.0.1 - - [07/Jul/2021 12:38:02] \"\u001b[37mGET /_dash-component-suites/dash_core_components/async-dropdown.v1_16_0m1617903285.js HTTP/1.1\u001b[0m\" 200 -\n",
      "127.0.0.1 - - [07/Jul/2021 12:38:05] \"\u001b[37mPOST /_dash-update-component HTTP/1.1\u001b[0m\" 200 -\n",
      "127.0.0.1 - - [07/Jul/2021 12:38:07] \"\u001b[37mPOST /_dash-update-component HTTP/1.1\u001b[0m\" 200 -\n",
      "127.0.0.1 - - [07/Jul/2021 12:43:01] \"\u001b[37mGET / HTTP/1.1\u001b[0m\" 200 -\n",
      "127.0.0.1 - - [07/Jul/2021 12:43:01] \"\u001b[37mGET /_dash-dependencies HTTP/1.1\u001b[0m\" 200 -\n",
      "127.0.0.1 - - [07/Jul/2021 12:43:01] \"\u001b[37mGET /_favicon.ico?v=1.20.0 HTTP/1.1\u001b[0m\" 200 -\n",
      "127.0.0.1 - - [07/Jul/2021 12:43:01] \"\u001b[37mGET /_dash-layout HTTP/1.1\u001b[0m\" 200 -\n",
      "127.0.0.1 - - [07/Jul/2021 12:43:01] \"\u001b[37mPOST /_dash-update-component HTTP/1.1\u001b[0m\" 200 -\n",
      "127.0.0.1 - - [07/Jul/2021 12:43:01] \"\u001b[37mPOST /_dash-update-component HTTP/1.1\u001b[0m\" 200 -\n"
     ]
    }
   ],
   "source": [
    "@app.callback(Output('volume', 'figure'),\n",
    "              [Input('my-dropdown2', 'value')])\n",
    "def update_graph(selected_dropdown_value):\n",
    "    dropdown = {\"TSLA\": \"Tesla\",\"AAPL\": \"Apple\",\"FB\": \"Facebook\",\"MSFT\": \"Microsoft\",}\n",
    "    trace1 = []\n",
    "    for stock in selected_dropdown_value:\n",
    "        trace1.append(\n",
    "          go.Scatter(x=df[df[\"Stock\"] == stock][\"Date\"],\n",
    "                     y=df[df[\"Stock\"] == stock][\"Volume\"],\n",
    "                     mode='lines', opacity=0.7,\n",
    "                     name=f'Volume {dropdown[stock]}', textposition='bottom center'))\n",
    "    traces = [trace1]\n",
    "    data = [val for sublist in traces for val in sublist]\n",
    "    figure = {'data': data, \n",
    "              'layout': go.Layout(colorway=[\"#5E0DAC\", '#FF4F00', '#375CB1', \n",
    "                                            '#FF7400', '#FFF400', '#FF0056'],\n",
    "            height=600,\n",
    "            title=f\"Market Volume for {', '.join(str(dropdown[i]) for i in selected_dropdown_value)} Over Time\",\n",
    "            xaxis={\"title\":\"Date\",\n",
    "                   'rangeselector': {'buttons': list([{'count': 1, 'label': '1M', \n",
    "                                                       'step': 'month', \n",
    "                                                       'stepmode': 'backward'},\n",
    "                                                      {'count': 6, 'label': '6M',\n",
    "                                                       'step': 'month', \n",
    "                                                       'stepmode': 'backward'},\n",
    "                                                      {'step': 'all'}])},\n",
    "                   'rangeslider': {'visible': True}, 'type': 'date'},\n",
    "             yaxis={\"title\":\"Transactions Volume\"})}\n",
    "    return figure\n",
    "\n",
    "\n",
    "if __name__=='__main__':\n",
    "    app.run_server(debug=False)"
   ]
  },
  {
   "cell_type": "code",
   "execution_count": null,
   "metadata": {},
   "outputs": [],
   "source": []
  }
 ]
}